{
 "cells": [
  {
   "cell_type": "markdown",
   "metadata": {},
   "source": [
    "# Milestone 2\n",
    "\n",
    "```\n",
    "Nama    : Aziz Dharmawan Apray\n",
    "FTDS Batch 008\n",
    "```"
   ]
  },
  {
   "cell_type": "markdown",
   "metadata": {},
   "source": [
    "---\n",
    "In this assignment, I use Twitter API to collect the dataset about any tweet which related to a new Disney Pixar movie \"Turning Red\".\n",
    "\n",
    "## Objective\n",
    "Doing a sentiment analysis about \"Turning Red\" and make a model sentiment analysis prediction. MULTI CLASS / MULTI LABEL"
   ]
  },
  {
   "cell_type": "markdown",
   "metadata": {},
   "source": [
    "## Working Area"
   ]
  },
  {
   "cell_type": "markdown",
   "metadata": {},
   "source": [
    "### 1 - Import Library"
   ]
  },
  {
   "cell_type": "code",
   "execution_count": 1,
   "metadata": {},
   "outputs": [],
   "source": [
    "import pandas as pd\n",
    "import numpy as np\n",
    "import matplotlib.pyplot as plt\n",
    "\n",
    "import re\n",
    "import nltk\n",
    "import string\n",
    "import pickle\n",
    "\n",
    "import itertools\n",
    "from sklearn.naive_bayes import MultinomialNB\n",
    "from sklearn.svm import SVC\n",
    "from sklearn.linear_model import LogisticRegression\n",
    "from sklearn.tree import DecisionTreeClassifier\n",
    "from sklearn.ensemble import RandomForestClassifier\n",
    "\n",
    "from sklearn.model_selection import cross_val_score\n",
    "from sklearn import metrics\n",
    "from sklearn.metrics import accuracy_score, classification_report, confusion_matrix, f1_score\n",
    "from sklearn.metrics import precision_recall_fscore_support\n",
    "from sklearn.model_selection import train_test_split\n",
    "from sklearn.feature_extraction.text import TfidfVectorizer, CountVectorizer\n",
    "\n",
    "from nltk.corpus import stopwords\n",
    "stop = set(stopwords.words(\"english\"))\n",
    "from nltk.stem.wordnet import WordNetLemmatizer\n",
    "lemma = WordNetLemmatizer()\n",
    "from nltk.tokenize import word_tokenize\n",
    "\n",
    "\n",
    "\n",
    "import warnings\n",
    "warnings.filterwarnings('ignore')"
   ]
  },
  {
   "cell_type": "code",
   "execution_count": 2,
   "metadata": {},
   "outputs": [
    {
     "data": {
      "text/html": [
       "<div>\n",
       "<style scoped>\n",
       "    .dataframe tbody tr th:only-of-type {\n",
       "        vertical-align: middle;\n",
       "    }\n",
       "\n",
       "    .dataframe tbody tr th {\n",
       "        vertical-align: top;\n",
       "    }\n",
       "\n",
       "    .dataframe thead th {\n",
       "        text-align: right;\n",
       "    }\n",
       "</style>\n",
       "<table border=\"1\" class=\"dataframe\">\n",
       "  <thead>\n",
       "    <tr style=\"text-align: right;\">\n",
       "      <th></th>\n",
       "      <th>user</th>\n",
       "      <th>tanggal</th>\n",
       "      <th>bahasa</th>\n",
       "      <th>isi</th>\n",
       "      <th>polarity</th>\n",
       "      <th>sentiment</th>\n",
       "    </tr>\n",
       "  </thead>\n",
       "  <tbody>\n",
       "    <tr>\n",
       "      <th>0</th>\n",
       "      <td>1494093565818986497</td>\n",
       "      <td>2022-03-26 03:35:54+00:00</td>\n",
       "      <td>en</td>\n",
       "      <td>If my mom embarrassed me like the one in turni...</td>\n",
       "      <td>0.000000</td>\n",
       "      <td>netral</td>\n",
       "    </tr>\n",
       "    <tr>\n",
       "      <th>1</th>\n",
       "      <td>1312859047931129856</td>\n",
       "      <td>2022-03-26 03:35:26+00:00</td>\n",
       "      <td>en</td>\n",
       "      <td>i want to be that one emo chick from turning red</td>\n",
       "      <td>0.000000</td>\n",
       "      <td>netral</td>\n",
       "    </tr>\n",
       "    <tr>\n",
       "      <th>2</th>\n",
       "      <td>1354193051330068480</td>\n",
       "      <td>2022-03-26 03:35:20+00:00</td>\n",
       "      <td>en</td>\n",
       "      <td>ok i just think madame yu and jiang cheng Turn...</td>\n",
       "      <td>0.250000</td>\n",
       "      <td>positif</td>\n",
       "    </tr>\n",
       "    <tr>\n",
       "      <th>3</th>\n",
       "      <td>1232931837569269760</td>\n",
       "      <td>2022-03-26 03:35:15+00:00</td>\n",
       "      <td>en</td>\n",
       "      <td>the song from turning red is stuck in my head 😣</td>\n",
       "      <td>0.000000</td>\n",
       "      <td>netral</td>\n",
       "    </tr>\n",
       "    <tr>\n",
       "      <th>4</th>\n",
       "      <td>1303160196995391488</td>\n",
       "      <td>2022-03-26 03:35:12+00:00</td>\n",
       "      <td>en</td>\n",
       "      <td>Turning Red is a fictional story, you can tell...</td>\n",
       "      <td>0.066667</td>\n",
       "      <td>positif</td>\n",
       "    </tr>\n",
       "    <tr>\n",
       "      <th>...</th>\n",
       "      <td>...</td>\n",
       "      <td>...</td>\n",
       "      <td>...</td>\n",
       "      <td>...</td>\n",
       "      <td>...</td>\n",
       "      <td>...</td>\n",
       "    </tr>\n",
       "    <tr>\n",
       "      <th>994</th>\n",
       "      <td>16541356</td>\n",
       "      <td>2022-03-25 23:23:23+00:00</td>\n",
       "      <td>en</td>\n",
       "      <td>Out of all the girls in Turning Red, who is th...</td>\n",
       "      <td>-0.250000</td>\n",
       "      <td>negatif</td>\n",
       "    </tr>\n",
       "    <tr>\n",
       "      <th>995</th>\n",
       "      <td>458996974</td>\n",
       "      <td>2022-03-25 23:23:21+00:00</td>\n",
       "      <td>en</td>\n",
       "      <td>no one talk to me I’m watching turning red, by...</td>\n",
       "      <td>0.000000</td>\n",
       "      <td>netral</td>\n",
       "    </tr>\n",
       "    <tr>\n",
       "      <th>996</th>\n",
       "      <td>1318362976802492416</td>\n",
       "      <td>2022-03-25 23:23:06+00:00</td>\n",
       "      <td>en</td>\n",
       "      <td>current mood \\r\\nlistening to the turning red ...</td>\n",
       "      <td>0.133333</td>\n",
       "      <td>positif</td>\n",
       "    </tr>\n",
       "    <tr>\n",
       "      <th>997</th>\n",
       "      <td>1395650972483993603</td>\n",
       "      <td>2022-03-25 23:23:01+00:00</td>\n",
       "      <td>en</td>\n",
       "      <td>Just icing it has helped a lot now it’s not so...</td>\n",
       "      <td>0.189583</td>\n",
       "      <td>positif</td>\n",
       "    </tr>\n",
       "    <tr>\n",
       "      <th>998</th>\n",
       "      <td>3302085646</td>\n",
       "      <td>2022-03-25 23:22:40+00:00</td>\n",
       "      <td>en</td>\n",
       "      <td>Just watched turning red, reminded my hate for...</td>\n",
       "      <td>-0.533333</td>\n",
       "      <td>negatif</td>\n",
       "    </tr>\n",
       "  </tbody>\n",
       "</table>\n",
       "<p>999 rows × 6 columns</p>\n",
       "</div>"
      ],
      "text/plain": [
       "                    user                    tanggal bahasa  \\\n",
       "0    1494093565818986497  2022-03-26 03:35:54+00:00     en   \n",
       "1    1312859047931129856  2022-03-26 03:35:26+00:00     en   \n",
       "2    1354193051330068480  2022-03-26 03:35:20+00:00     en   \n",
       "3    1232931837569269760  2022-03-26 03:35:15+00:00     en   \n",
       "4    1303160196995391488  2022-03-26 03:35:12+00:00     en   \n",
       "..                   ...                        ...    ...   \n",
       "994             16541356  2022-03-25 23:23:23+00:00     en   \n",
       "995            458996974  2022-03-25 23:23:21+00:00     en   \n",
       "996  1318362976802492416  2022-03-25 23:23:06+00:00     en   \n",
       "997  1395650972483993603  2022-03-25 23:23:01+00:00     en   \n",
       "998           3302085646  2022-03-25 23:22:40+00:00     en   \n",
       "\n",
       "                                                   isi  polarity sentiment  \n",
       "0    If my mom embarrassed me like the one in turni...  0.000000    netral  \n",
       "1     i want to be that one emo chick from turning red  0.000000    netral  \n",
       "2    ok i just think madame yu and jiang cheng Turn...  0.250000   positif  \n",
       "3      the song from turning red is stuck in my head 😣  0.000000    netral  \n",
       "4    Turning Red is a fictional story, you can tell...  0.066667   positif  \n",
       "..                                                 ...       ...       ...  \n",
       "994  Out of all the girls in Turning Red, who is th... -0.250000   negatif  \n",
       "995  no one talk to me I’m watching turning red, by...  0.000000    netral  \n",
       "996  current mood \\r\\nlistening to the turning red ...  0.133333   positif  \n",
       "997  Just icing it has helped a lot now it’s not so...  0.189583   positif  \n",
       "998  Just watched turning red, reminded my hate for... -0.533333   negatif  \n",
       "\n",
       "[999 rows x 6 columns]"
      ]
     },
     "execution_count": 2,
     "metadata": {},
     "output_type": "execute_result"
    }
   ],
   "source": [
    "film = pd.read_csv('turning_red_sentiment.csv')\n",
    "film_ori = film.copy()\n",
    "film"
   ]
  },
  {
   "cell_type": "markdown",
   "metadata": {},
   "source": [
    "### 2 - EDA"
   ]
  },
  {
   "cell_type": "code",
   "execution_count": 3,
   "metadata": {},
   "outputs": [
    {
     "name": "stdout",
     "output_type": "stream",
     "text": [
      "<class 'pandas.core.frame.DataFrame'>\n",
      "RangeIndex: 999 entries, 0 to 998\n",
      "Data columns (total 6 columns):\n",
      " #   Column     Non-Null Count  Dtype  \n",
      "---  ------     --------------  -----  \n",
      " 0   user       999 non-null    int64  \n",
      " 1   tanggal    999 non-null    object \n",
      " 2   bahasa     999 non-null    object \n",
      " 3   isi        999 non-null    object \n",
      " 4   polarity   999 non-null    float64\n",
      " 5   sentiment  999 non-null    object \n",
      "dtypes: float64(1), int64(1), object(4)\n",
      "memory usage: 47.0+ KB\n"
     ]
    }
   ],
   "source": [
    "film.info()"
   ]
  },
  {
   "cell_type": "code",
   "execution_count": 4,
   "metadata": {},
   "outputs": [
    {
     "data": {
      "text/html": [
       "<div>\n",
       "<style scoped>\n",
       "    .dataframe tbody tr th:only-of-type {\n",
       "        vertical-align: middle;\n",
       "    }\n",
       "\n",
       "    .dataframe tbody tr th {\n",
       "        vertical-align: top;\n",
       "    }\n",
       "\n",
       "    .dataframe thead th {\n",
       "        text-align: right;\n",
       "    }\n",
       "</style>\n",
       "<table border=\"1\" class=\"dataframe\">\n",
       "  <thead>\n",
       "    <tr style=\"text-align: right;\">\n",
       "      <th></th>\n",
       "      <th>user</th>\n",
       "      <th>tanggal</th>\n",
       "      <th>bahasa</th>\n",
       "      <th>isi</th>\n",
       "      <th>polarity</th>\n",
       "      <th>sentiment</th>\n",
       "    </tr>\n",
       "  </thead>\n",
       "  <tbody>\n",
       "    <tr>\n",
       "      <th>0</th>\n",
       "      <td>1494093565818986497</td>\n",
       "      <td>2022-03-26 03:35:54+00:00</td>\n",
       "      <td>en</td>\n",
       "      <td>If my mom embarrassed me like the one in turni...</td>\n",
       "      <td>0.000000</td>\n",
       "      <td>netral</td>\n",
       "    </tr>\n",
       "    <tr>\n",
       "      <th>1</th>\n",
       "      <td>1312859047931129856</td>\n",
       "      <td>2022-03-26 03:35:26+00:00</td>\n",
       "      <td>en</td>\n",
       "      <td>i want to be that one emo chick from turning red</td>\n",
       "      <td>0.000000</td>\n",
       "      <td>netral</td>\n",
       "    </tr>\n",
       "    <tr>\n",
       "      <th>2</th>\n",
       "      <td>1354193051330068480</td>\n",
       "      <td>2022-03-26 03:35:20+00:00</td>\n",
       "      <td>en</td>\n",
       "      <td>ok i just think madame yu and jiang cheng Turn...</td>\n",
       "      <td>0.250000</td>\n",
       "      <td>positif</td>\n",
       "    </tr>\n",
       "    <tr>\n",
       "      <th>3</th>\n",
       "      <td>1232931837569269760</td>\n",
       "      <td>2022-03-26 03:35:15+00:00</td>\n",
       "      <td>en</td>\n",
       "      <td>the song from turning red is stuck in my head 😣</td>\n",
       "      <td>0.000000</td>\n",
       "      <td>netral</td>\n",
       "    </tr>\n",
       "    <tr>\n",
       "      <th>4</th>\n",
       "      <td>1303160196995391488</td>\n",
       "      <td>2022-03-26 03:35:12+00:00</td>\n",
       "      <td>en</td>\n",
       "      <td>Turning Red is a fictional story, you can tell...</td>\n",
       "      <td>0.066667</td>\n",
       "      <td>positif</td>\n",
       "    </tr>\n",
       "    <tr>\n",
       "      <th>...</th>\n",
       "      <td>...</td>\n",
       "      <td>...</td>\n",
       "      <td>...</td>\n",
       "      <td>...</td>\n",
       "      <td>...</td>\n",
       "      <td>...</td>\n",
       "    </tr>\n",
       "    <tr>\n",
       "      <th>994</th>\n",
       "      <td>16541356</td>\n",
       "      <td>2022-03-25 23:23:23+00:00</td>\n",
       "      <td>en</td>\n",
       "      <td>Out of all the girls in Turning Red, who is th...</td>\n",
       "      <td>-0.250000</td>\n",
       "      <td>negatif</td>\n",
       "    </tr>\n",
       "    <tr>\n",
       "      <th>995</th>\n",
       "      <td>458996974</td>\n",
       "      <td>2022-03-25 23:23:21+00:00</td>\n",
       "      <td>en</td>\n",
       "      <td>no one talk to me I’m watching turning red, by...</td>\n",
       "      <td>0.000000</td>\n",
       "      <td>netral</td>\n",
       "    </tr>\n",
       "    <tr>\n",
       "      <th>996</th>\n",
       "      <td>1318362976802492416</td>\n",
       "      <td>2022-03-25 23:23:06+00:00</td>\n",
       "      <td>en</td>\n",
       "      <td>current mood \\r\\nlistening to the turning red ...</td>\n",
       "      <td>0.133333</td>\n",
       "      <td>positif</td>\n",
       "    </tr>\n",
       "    <tr>\n",
       "      <th>997</th>\n",
       "      <td>1395650972483993603</td>\n",
       "      <td>2022-03-25 23:23:01+00:00</td>\n",
       "      <td>en</td>\n",
       "      <td>Just icing it has helped a lot now it’s not so...</td>\n",
       "      <td>0.189583</td>\n",
       "      <td>positif</td>\n",
       "    </tr>\n",
       "    <tr>\n",
       "      <th>998</th>\n",
       "      <td>3302085646</td>\n",
       "      <td>2022-03-25 23:22:40+00:00</td>\n",
       "      <td>en</td>\n",
       "      <td>Just watched turning red, reminded my hate for...</td>\n",
       "      <td>-0.533333</td>\n",
       "      <td>negatif</td>\n",
       "    </tr>\n",
       "  </tbody>\n",
       "</table>\n",
       "<p>999 rows × 6 columns</p>\n",
       "</div>"
      ],
      "text/plain": [
       "                    user                    tanggal bahasa  \\\n",
       "0    1494093565818986497  2022-03-26 03:35:54+00:00     en   \n",
       "1    1312859047931129856  2022-03-26 03:35:26+00:00     en   \n",
       "2    1354193051330068480  2022-03-26 03:35:20+00:00     en   \n",
       "3    1232931837569269760  2022-03-26 03:35:15+00:00     en   \n",
       "4    1303160196995391488  2022-03-26 03:35:12+00:00     en   \n",
       "..                   ...                        ...    ...   \n",
       "994             16541356  2022-03-25 23:23:23+00:00     en   \n",
       "995            458996974  2022-03-25 23:23:21+00:00     en   \n",
       "996  1318362976802492416  2022-03-25 23:23:06+00:00     en   \n",
       "997  1395650972483993603  2022-03-25 23:23:01+00:00     en   \n",
       "998           3302085646  2022-03-25 23:22:40+00:00     en   \n",
       "\n",
       "                                                   isi  polarity sentiment  \n",
       "0    If my mom embarrassed me like the one in turni...  0.000000    netral  \n",
       "1     i want to be that one emo chick from turning red  0.000000    netral  \n",
       "2    ok i just think madame yu and jiang cheng Turn...  0.250000   positif  \n",
       "3      the song from turning red is stuck in my head 😣  0.000000    netral  \n",
       "4    Turning Red is a fictional story, you can tell...  0.066667   positif  \n",
       "..                                                 ...       ...       ...  \n",
       "994  Out of all the girls in Turning Red, who is th... -0.250000   negatif  \n",
       "995  no one talk to me I’m watching turning red, by...  0.000000    netral  \n",
       "996  current mood \\r\\nlistening to the turning red ...  0.133333   positif  \n",
       "997  Just icing it has helped a lot now it’s not so...  0.189583   positif  \n",
       "998  Just watched turning red, reminded my hate for... -0.533333   negatif  \n",
       "\n",
       "[999 rows x 6 columns]"
      ]
     },
     "execution_count": 4,
     "metadata": {},
     "output_type": "execute_result"
    }
   ],
   "source": [
    "film"
   ]
  },
  {
   "cell_type": "code",
   "execution_count": 5,
   "metadata": {},
   "outputs": [
    {
     "data": {
      "image/png": "[encoded data removed]",
      "text/plain": [
       "<Figure size 576x360 with 1 Axes>"
      ]
     },
     "metadata": {},
     "output_type": "display_data"
    }
   ],
   "source": [
    "plt.figure(figsize=(8,5))\n",
    "film['sentiment'].value_counts().sort_index().plot(kind='pie', autopct='%1.1f%%')\n",
    "plt.title(\"Distribution of Sentiment\")\n",
    "# plt.xlabel(\"Sentiment\")\n",
    "plt.ylabel(\"Count\")\n",
    "\n",
    "plt.show()"
   ]
  },
  {
   "cell_type": "markdown",
   "metadata": {},
   "source": [
    "### 3 - Data Preprocessing"
   ]
  },
  {
   "cell_type": "code",
   "execution_count": 6,
   "metadata": {},
   "outputs": [],
   "source": [
    "# Function for cleaning tweet data\n",
    "\n",
    "def remove_URL(text):\n",
    "    url = re.compile(r\"https?://\\S+|www\\.\\S+\")\n",
    "    return url.sub(r\"\", text)\n",
    "\n",
    "def remove_html(text):\n",
    "    html = re.compile(r\"<.*?>\")\n",
    "    return html.sub(r\"\", text)\n",
    "\n",
    "def remove_emoji(string):\n",
    "    emoji_pattern = re.compile(\n",
    "        \"[\"\n",
    "        u\"\\U0001F600-\\U0001F64F\"    # emoticons\n",
    "        u\"\\U0001F300-\\U0001F5FF\"    # symbols & pictographs\n",
    "        u\"\\U0001F680-\\U0001F6FF\"    # transport & map symbols\n",
    "        u\"\\U0001F1E0-\\U0001F1FF\"    # flags  (iOS)\n",
    "        u\"\\U00002702-\\U000027B0\"\n",
    "        u\"\\U000024C2-\\U0001F251\"\n",
    "        \"]+\",\n",
    "        flags=re.UNICODE,\n",
    "    )\n",
    "    return emoji_pattern.sub(r\"\", string)\n",
    "\n",
    "def remove_punct(text):\n",
    "    table = str.maketrans(\"\", \"\", string.punctuation)\n",
    "    return text.translate(table)\n",
    "\n",
    "def remove_number(text):\n",
    "    number = re.compile(r\"\\w*\\d\\w*\")\n",
    "    return number.sub(r\"\", text)\n",
    "\n",
    "def remove_stopwords(text):\n",
    "    text = [word.lower() for word in text.split() if word.lower() not in stop]\n",
    "    return \" \".join(text)\n",
    "\n",
    "def lemmatizing(text):\n",
    "    text = [lemma.lemmatize(word) for word in text.split()]\n",
    "    return \" \".join(text)\n",
    "\n",
    "def word_token(data):\n",
    "    tokenized_word = word_tokenize(data)\n",
    "    return tokenized_word\n",
    "token = lambda x: word_token(x)\n",
    "\n",
    "def to_sentence(list_words):\n",
    "    sentence = \" \".join(word for word in list_words)\n",
    "    return sentence"
   ]
  },
  {
   "cell_type": "code",
   "execution_count": 7,
   "metadata": {},
   "outputs": [],
   "source": [
    "# Cleaning tweet data\n",
    "\n",
    "film[\"isi\"] = film[\"isi\"].map(lambda x: remove_URL(x))\n",
    "film[\"isi\"] = film[\"isi\"].map(lambda x: remove_html(x))\n",
    "film[\"isi\"] = film[\"isi\"].map(lambda x: remove_emoji(x))\n",
    "film[\"isi\"] = film[\"isi\"].map(lambda x: remove_punct(x))\n",
    "film[\"isi\"] = film[\"isi\"].map(lambda x: remove_number(x))\n",
    "\n",
    "film[\"isi\"] = film[\"isi\"].map(remove_stopwords)\n",
    "\n",
    "film[\"isi\"] = film[\"isi\"].map(lemmatizing)\n",
    "\n",
    "# film[\"isi\"] = film[\"isi\"].map(token)"
   ]
  },
  {
   "cell_type": "code",
   "execution_count": 8,
   "metadata": {},
   "outputs": [
    {
     "data": {
      "text/plain": [
       "0      mom embarrassed like one turning red i’d fight...\n",
       "1                         want one emo chick turning red\n",
       "2          ok think madame yu jiang cheng turning red au\n",
       "3                            song turning red stuck head\n",
       "4      turning red fictional story tell it’s set “can...\n",
       "                             ...                        \n",
       "994            girl turning red biggest jackass fan abby\n",
       "995             one talk i’m watching turning red byeeee\n",
       "996    current mood listening turning red sound track...\n",
       "997    icing helped lot it’s red lol gonna purple tho...\n",
       "998    watched turning red reminded hate ginger god o...\n",
       "Name: isi, Length: 999, dtype: object"
      ]
     },
     "execution_count": 8,
     "metadata": {},
     "output_type": "execute_result"
    }
   ],
   "source": [
    "film[\"isi\"]"
   ]
  },
  {
   "cell_type": "code",
   "execution_count": 9,
   "metadata": {},
   "outputs": [
    {
     "data": {
      "text/html": [
       "<div>\n",
       "<style scoped>\n",
       "    .dataframe tbody tr th:only-of-type {\n",
       "        vertical-align: middle;\n",
       "    }\n",
       "\n",
       "    .dataframe tbody tr th {\n",
       "        vertical-align: top;\n",
       "    }\n",
       "\n",
       "    .dataframe thead th {\n",
       "        text-align: right;\n",
       "    }\n",
       "</style>\n",
       "<table border=\"1\" class=\"dataframe\">\n",
       "  <thead>\n",
       "    <tr style=\"text-align: right;\">\n",
       "      <th></th>\n",
       "      <th>isi</th>\n",
       "      <th>sentiment</th>\n",
       "    </tr>\n",
       "  </thead>\n",
       "  <tbody>\n",
       "    <tr>\n",
       "      <th>0</th>\n",
       "      <td>mom embarrassed like one turning red i’d fight...</td>\n",
       "      <td>netral</td>\n",
       "    </tr>\n",
       "    <tr>\n",
       "      <th>1</th>\n",
       "      <td>want one emo chick turning red</td>\n",
       "      <td>netral</td>\n",
       "    </tr>\n",
       "    <tr>\n",
       "      <th>2</th>\n",
       "      <td>ok think madame yu jiang cheng turning red au</td>\n",
       "      <td>positif</td>\n",
       "    </tr>\n",
       "    <tr>\n",
       "      <th>3</th>\n",
       "      <td>song turning red stuck head</td>\n",
       "      <td>netral</td>\n",
       "    </tr>\n",
       "    <tr>\n",
       "      <th>4</th>\n",
       "      <td>turning red fictional story tell it’s set “can...</td>\n",
       "      <td>positif</td>\n",
       "    </tr>\n",
       "    <tr>\n",
       "      <th>...</th>\n",
       "      <td>...</td>\n",
       "      <td>...</td>\n",
       "    </tr>\n",
       "    <tr>\n",
       "      <th>994</th>\n",
       "      <td>girl turning red biggest jackass fan abby</td>\n",
       "      <td>negatif</td>\n",
       "    </tr>\n",
       "    <tr>\n",
       "      <th>995</th>\n",
       "      <td>one talk i’m watching turning red byeeee</td>\n",
       "      <td>netral</td>\n",
       "    </tr>\n",
       "    <tr>\n",
       "      <th>996</th>\n",
       "      <td>current mood listening turning red sound track...</td>\n",
       "      <td>positif</td>\n",
       "    </tr>\n",
       "    <tr>\n",
       "      <th>997</th>\n",
       "      <td>icing helped lot it’s red lol gonna purple tho...</td>\n",
       "      <td>positif</td>\n",
       "    </tr>\n",
       "    <tr>\n",
       "      <th>998</th>\n",
       "      <td>watched turning red reminded hate ginger god o...</td>\n",
       "      <td>negatif</td>\n",
       "    </tr>\n",
       "  </tbody>\n",
       "</table>\n",
       "<p>999 rows × 2 columns</p>\n",
       "</div>"
      ],
      "text/plain": [
       "                                                   isi sentiment\n",
       "0    mom embarrassed like one turning red i’d fight...    netral\n",
       "1                       want one emo chick turning red    netral\n",
       "2        ok think madame yu jiang cheng turning red au   positif\n",
       "3                          song turning red stuck head    netral\n",
       "4    turning red fictional story tell it’s set “can...   positif\n",
       "..                                                 ...       ...\n",
       "994          girl turning red biggest jackass fan abby   negatif\n",
       "995           one talk i’m watching turning red byeeee    netral\n",
       "996  current mood listening turning red sound track...   positif\n",
       "997  icing helped lot it’s red lol gonna purple tho...   positif\n",
       "998  watched turning red reminded hate ginger god o...   negatif\n",
       "\n",
       "[999 rows x 2 columns]"
      ]
     },
     "execution_count": 9,
     "metadata": {},
     "output_type": "execute_result"
    }
   ],
   "source": [
    "# Drop unused columns\n",
    "\n",
    "film = film.drop(columns=['user','tanggal','bahasa','polarity'])\n",
    "film"
   ]
  },
  {
   "cell_type": "code",
   "execution_count": 10,
   "metadata": {},
   "outputs": [
    {
     "name": "stdout",
     "output_type": "stream",
     "text": [
      "Vocabulary length : 886\n"
     ]
    }
   ],
   "source": [
    "# Split data into feature and target\n",
    "X = film['isi']\n",
    "y = film['sentiment']\n",
    "\n",
    "# Create the train and test data\n",
    "X_train, X_test, y_train, y_test = train_test_split(X, y, train_size=0.2, random_state=0, stratify=y)\n",
    "\n",
    "# Create the word vector with CountVectorizer\n",
    "count_vect = CountVectorizer(ngram_range=(1,1))\n",
    "count_vect_train = count_vect.fit_transform(X_train)\n",
    "count_vect_train = count_vect_train.toarray()\n",
    "count_vect_test = count_vect.transform(X_test)\n",
    "count_vect_test = count_vect_test.toarray()\n",
    "\n",
    "# Print vocabulary length\n",
    "print('Vocabulary length :', len(count_vect.get_feature_names()))"
   ]
  },
  {
   "cell_type": "code",
   "execution_count": 11,
   "metadata": {},
   "outputs": [],
   "source": [
    "X = film['isi']\n",
    "y = film['sentiment']"
   ]
  },
  {
   "cell_type": "code",
   "execution_count": 12,
   "metadata": {},
   "outputs": [],
   "source": [
    "X_train, X_test, y_train, y_test = train_test_split(X, y, train_size=0.2, random_state=0, stratify=y)"
   ]
  },
  {
   "cell_type": "code",
   "execution_count": 13,
   "metadata": {},
   "outputs": [],
   "source": [
    "# Create the word vector with CountVectorizer\n",
    "\n",
    "count_vect = CountVectorizer(ngram_range=(1,1))\n",
    "count_vect_train = count_vect.fit_transform(X_train)\n",
    "count_vect_train = count_vect_train.toarray()\n",
    "count_vect_test = count_vect.transform(X_test)\n",
    "count_vect_test = count_vect_test.toarray()"
   ]
  },
  {
   "cell_type": "code",
   "execution_count": 14,
   "metadata": {},
   "outputs": [
    {
     "name": "stdout",
     "output_type": "stream",
     "text": [
      "Vocabulary length : 886\n"
     ]
    }
   ],
   "source": [
    "# Print vocabulary length\n",
    "print('Vocabulary length :', len(count_vect.get_feature_names()))"
   ]
  },
  {
   "cell_type": "code",
   "execution_count": 15,
   "metadata": {},
   "outputs": [],
   "source": [
    "# Assign feature names of vector into a variable\n",
    "vocab = count_vect.get_feature_names()"
   ]
  },
  {
   "cell_type": "code",
   "execution_count": 16,
   "metadata": {},
   "outputs": [
    {
     "data": {
      "text/html": [
       "<div>\n",
       "<style scoped>\n",
       "    .dataframe tbody tr th:only-of-type {\n",
       "        vertical-align: middle;\n",
       "    }\n",
       "\n",
       "    .dataframe tbody tr th {\n",
       "        vertical-align: top;\n",
       "    }\n",
       "\n",
       "    .dataframe thead th {\n",
       "        text-align: right;\n",
       "    }\n",
       "</style>\n",
       "<table border=\"1\" class=\"dataframe\">\n",
       "  <thead>\n",
       "    <tr style=\"text-align: right;\">\n",
       "      <th></th>\n",
       "      <th>aaaaaaaaaaaaaaaaaa</th>\n",
       "      <th>abby</th>\n",
       "      <th>abeehatariqart</th>\n",
       "      <th>ability</th>\n",
       "      <th>absolutely</th>\n",
       "      <th>abstract</th>\n",
       "      <th>accepting</th>\n",
       "      <th>according</th>\n",
       "      <th>achievement</th>\n",
       "      <th>actually</th>\n",
       "      <th>...</th>\n",
       "      <th>year</th>\n",
       "      <th>yeh</th>\n",
       "      <th>yes</th>\n",
       "      <th>yesandagain</th>\n",
       "      <th>yet</th>\n",
       "      <th>yo</th>\n",
       "      <th>yooo</th>\n",
       "      <th>youre</th>\n",
       "      <th>youtube</th>\n",
       "      <th>yuantwst</th>\n",
       "    </tr>\n",
       "  </thead>\n",
       "  <tbody>\n",
       "    <tr>\n",
       "      <th>0</th>\n",
       "      <td>0</td>\n",
       "      <td>0</td>\n",
       "      <td>0</td>\n",
       "      <td>0</td>\n",
       "      <td>0</td>\n",
       "      <td>0</td>\n",
       "      <td>0</td>\n",
       "      <td>0</td>\n",
       "      <td>0</td>\n",
       "      <td>0</td>\n",
       "      <td>...</td>\n",
       "      <td>0</td>\n",
       "      <td>0</td>\n",
       "      <td>0</td>\n",
       "      <td>0</td>\n",
       "      <td>0</td>\n",
       "      <td>0</td>\n",
       "      <td>0</td>\n",
       "      <td>0</td>\n",
       "      <td>0</td>\n",
       "      <td>0</td>\n",
       "    </tr>\n",
       "    <tr>\n",
       "      <th>1</th>\n",
       "      <td>0</td>\n",
       "      <td>0</td>\n",
       "      <td>0</td>\n",
       "      <td>0</td>\n",
       "      <td>0</td>\n",
       "      <td>0</td>\n",
       "      <td>0</td>\n",
       "      <td>0</td>\n",
       "      <td>0</td>\n",
       "      <td>0</td>\n",
       "      <td>...</td>\n",
       "      <td>0</td>\n",
       "      <td>0</td>\n",
       "      <td>0</td>\n",
       "      <td>0</td>\n",
       "      <td>0</td>\n",
       "      <td>0</td>\n",
       "      <td>0</td>\n",
       "      <td>0</td>\n",
       "      <td>0</td>\n",
       "      <td>0</td>\n",
       "    </tr>\n",
       "    <tr>\n",
       "      <th>2</th>\n",
       "      <td>0</td>\n",
       "      <td>0</td>\n",
       "      <td>0</td>\n",
       "      <td>0</td>\n",
       "      <td>0</td>\n",
       "      <td>0</td>\n",
       "      <td>0</td>\n",
       "      <td>0</td>\n",
       "      <td>0</td>\n",
       "      <td>0</td>\n",
       "      <td>...</td>\n",
       "      <td>0</td>\n",
       "      <td>0</td>\n",
       "      <td>0</td>\n",
       "      <td>0</td>\n",
       "      <td>0</td>\n",
       "      <td>0</td>\n",
       "      <td>0</td>\n",
       "      <td>0</td>\n",
       "      <td>0</td>\n",
       "      <td>0</td>\n",
       "    </tr>\n",
       "    <tr>\n",
       "      <th>3</th>\n",
       "      <td>0</td>\n",
       "      <td>0</td>\n",
       "      <td>0</td>\n",
       "      <td>0</td>\n",
       "      <td>0</td>\n",
       "      <td>0</td>\n",
       "      <td>0</td>\n",
       "      <td>0</td>\n",
       "      <td>0</td>\n",
       "      <td>0</td>\n",
       "      <td>...</td>\n",
       "      <td>0</td>\n",
       "      <td>0</td>\n",
       "      <td>0</td>\n",
       "      <td>0</td>\n",
       "      <td>0</td>\n",
       "      <td>0</td>\n",
       "      <td>0</td>\n",
       "      <td>0</td>\n",
       "      <td>0</td>\n",
       "      <td>0</td>\n",
       "    </tr>\n",
       "    <tr>\n",
       "      <th>4</th>\n",
       "      <td>0</td>\n",
       "      <td>0</td>\n",
       "      <td>0</td>\n",
       "      <td>0</td>\n",
       "      <td>0</td>\n",
       "      <td>0</td>\n",
       "      <td>0</td>\n",
       "      <td>0</td>\n",
       "      <td>0</td>\n",
       "      <td>0</td>\n",
       "      <td>...</td>\n",
       "      <td>0</td>\n",
       "      <td>0</td>\n",
       "      <td>0</td>\n",
       "      <td>0</td>\n",
       "      <td>0</td>\n",
       "      <td>0</td>\n",
       "      <td>0</td>\n",
       "      <td>0</td>\n",
       "      <td>0</td>\n",
       "      <td>0</td>\n",
       "    </tr>\n",
       "  </tbody>\n",
       "</table>\n",
       "<p>5 rows × 886 columns</p>\n",
       "</div>"
      ],
      "text/plain": [
       "   aaaaaaaaaaaaaaaaaa  abby  abeehatariqart  ability  absolutely  abstract  \\\n",
       "0                   0     0               0        0           0         0   \n",
       "1                   0     0               0        0           0         0   \n",
       "2                   0     0               0        0           0         0   \n",
       "3                   0     0               0        0           0         0   \n",
       "4                   0     0               0        0           0         0   \n",
       "\n",
       "   accepting  according  achievement  actually  ...  year  yeh  yes  \\\n",
       "0          0          0            0         0  ...     0    0    0   \n",
       "1          0          0            0         0  ...     0    0    0   \n",
       "2          0          0            0         0  ...     0    0    0   \n",
       "3          0          0            0         0  ...     0    0    0   \n",
       "4          0          0            0         0  ...     0    0    0   \n",
       "\n",
       "   yesandagain  yet  yo  yooo  youre  youtube  yuantwst  \n",
       "0            0    0   0     0      0        0         0  \n",
       "1            0    0   0     0      0        0         0  \n",
       "2            0    0   0     0      0        0         0  \n",
       "3            0    0   0     0      0        0         0  \n",
       "4            0    0   0     0      0        0         0  \n",
       "\n",
       "[5 rows x 886 columns]"
      ]
     },
     "execution_count": 16,
     "metadata": {},
     "output_type": "execute_result"
    }
   ],
   "source": [
    "# Dataframe for train countvectorizer dataset\n",
    "pd.DataFrame(count_vect_train, columns = vocab).head()"
   ]
  },
  {
   "cell_type": "code",
   "execution_count": 17,
   "metadata": {},
   "outputs": [],
   "source": [
    "Xtrain = count_vect_train\n",
    "Xtest = count_vect_test"
   ]
  },
  {
   "cell_type": "code",
   "execution_count": 18,
   "metadata": {},
   "outputs": [],
   "source": [
    "# Confusion Matrix Plot\n",
    "def plot_confusion_matrix(cm, classes,\n",
    "                          normalize=False,\n",
    "                          title = 'Confusion matrix',\n",
    "                          cmap = plt.cm.ocean):\n",
    "    \"\"\"\n",
    "    Create a confusion matrix plot for 'good' and 'bad' rating values \n",
    "    \"\"\"\n",
    "    if normalize:\n",
    "        cm = cm.astype('float') / cm.sum(axis = 1)[:, np.newaxis]\n",
    "    plt.imshow(cm, interpolation = 'nearest', cmap = cmap)\n",
    "    plt.title(title, fontsize = 15)\n",
    "    plt.colorbar()\n",
    "    tick_marks = np.arange(len(classes))\n",
    "    plt.xticks(tick_marks, classes, fontsize = 8)\n",
    "    plt.yticks(tick_marks, classes, fontsize = 8)\n",
    "    \n",
    "    fmt = '.2f' if normalize else 'd'\n",
    "    thresh = cm.max() / 2.\n",
    "\n",
    "    for i, j in itertools.product(range(cm.shape[0]), range(cm.shape[1])):\n",
    "        plt.text(j, i, format(cm[i, j], fmt), horizontalalignment = \"center\", \n",
    "                 color = \"white\" if cm[i, j] < thresh else \"black\", fontsize = 15)\n",
    "    \n",
    "    plt.tight_layout()\n",
    "    plt.ylabel('True Label', fontsize = 10)\n",
    "    plt.xlabel('Predicted Label', fontsize = 10)\n",
    "\n",
    "    return plt\n",
    "\n",
    "def disp_confusion_matrix(y_pred, model_name, vector = 'CounterVectorizing'):\n",
    "    \"\"\"\n",
    "    Display confusion matrix for selected model with countVectorizer\n",
    "    \"\"\"\n",
    "    cm = confusion_matrix(y_test, y_pred)\n",
    "    fig = plt.figure(figsize=(6, 5))\n",
    "    plot = plot_confusion_matrix(cm, classes=['Negatif','Netral','Positif'], normalize=False, \n",
    "                                 title = model_name + \" \" + 'with' + \" \" + vector + \" \"+ '\\nConfusion Matrix')\n",
    "    plt.show()"
   ]
  },
  {
   "cell_type": "markdown",
   "metadata": {},
   "source": [
    "### 4 - Modeling"
   ]
  },
  {
   "cell_type": "code",
   "execution_count": 19,
   "metadata": {},
   "outputs": [
    {
     "name": "stdout",
     "output_type": "stream",
     "text": [
      "Train - f1-score: 0.9375939526693297\n",
      "Test - f1-score: 0.4844749009855393\n"
     ]
    },
    {
     "data": {
      "image/png": "[encoded data removed]",
      "text/plain": [
       "<Figure size 432x360 with 2 Axes>"
      ]
     },
     "metadata": {
      "needs_background": "light"
     },
     "output_type": "display_data"
    }
   ],
   "source": [
    "# Call the modeling function for Naive Bayes with countvectorizer and print f1 score\n",
    "def nb_sentiment():\n",
    "    nb = MultinomialNB()\n",
    "    nb.fit(Xtrain, y_train)\n",
    "    y_pred_nb_train = nb.predict(Xtrain)\n",
    "    y_pred_nb_test = nb.predict(Xtest)\n",
    "    score_nb_train = f1_score(y_train, y_pred_nb_train, average=\"weighted\")\n",
    "    score_nb_test = f1_score(y_test, y_pred_nb_test, average=\"weighted\")\n",
    "\n",
    "    print(\"Train - f1-score: {}\".format(score_nb_train))\n",
    "    print(\"Test - f1-score: {}\".format(score_nb_test))\n",
    "\n",
    "    disp_confusion_matrix(y_pred_nb_test, \"Test - Naive Bayes\")\n",
    "\n",
    "nb_sentiment()"
   ]
  },
  {
   "cell_type": "code",
   "execution_count": 20,
   "metadata": {},
   "outputs": [
    {
     "name": "stdout",
     "output_type": "stream",
     "text": [
      "Train - f1-score: 0.9949414107161779\n",
      "Test - f1-score: 0.6563833887252178\n"
     ]
    },
    {
     "data": {
      "image/png": "[encoded data removed]",
      "text/plain": [
       "<Figure size 432x360 with 2 Axes>"
      ]
     },
     "metadata": {
      "needs_background": "light"
     },
     "output_type": "display_data"
    }
   ],
   "source": [
    "# Call the modeling function for Logistic Regression with countvectorizer and print f1 score\n",
    "def lg_sentiment():\n",
    "    lg = LogisticRegression()\n",
    "    lg.fit(Xtrain, y_train)\n",
    "    y_pred_lg_train = lg.predict(Xtrain)\n",
    "    y_pred_lg_test = lg.predict(Xtest)\n",
    "    score_lg_train = f1_score(y_train, y_pred_lg_train, average=\"weighted\")\n",
    "    score_lg_test = f1_score(y_test, y_pred_lg_test, average=\"weighted\")\n",
    "\n",
    "    print(\"Train - f1-score: {}\".format(score_lg_train))\n",
    "    print(\"Test - f1-score: {}\".format(score_lg_test))\n",
    "\n",
    "    disp_confusion_matrix(y_pred_lg_test, \"Logistic Regression\")\n",
    "\n",
    "lg_sentiment()"
   ]
  },
  {
   "cell_type": "code",
   "execution_count": 21,
   "metadata": {},
   "outputs": [
    {
     "name": "stdout",
     "output_type": "stream",
     "text": [
      "Train - f1-score: 0.8918581725027749\n",
      "Test - f1-score: 0.6302871426948237\n"
     ]
    },
    {
     "data": {
      "image/png": "[encoded data removed]",
      "text/plain": [
       "<Figure size 432x360 with 2 Axes>"
      ]
     },
     "metadata": {
      "needs_background": "light"
     },
     "output_type": "display_data"
    }
   ],
   "source": [
    "# Call the modeling function for SVM with countvectorizer and print f1 score\n",
    "def svm_sentiment():\n",
    "    svm = SVC()\n",
    "    svm.fit(Xtrain, y_train)\n",
    "    y_pred_svm_train = svm.predict(Xtrain)\n",
    "    y_pred_svm_test = svm.predict(Xtest)\n",
    "    score_svm_train = f1_score(y_train, y_pred_svm_train, average=\"weighted\")\n",
    "    score_svm_test = f1_score(y_test, y_pred_svm_test, average=\"weighted\")\n",
    "\n",
    "    print(\"Train - f1-score: {}\".format(score_svm_train))\n",
    "    print(\"Test - f1-score: {}\".format(score_svm_test))\n",
    "\n",
    "    disp_confusion_matrix(y_pred_svm_test, \"SVM\")\n",
    "\n",
    "svm_sentiment()"
   ]
  },
  {
   "cell_type": "code",
   "execution_count": 22,
   "metadata": {},
   "outputs": [
    {
     "name": "stdout",
     "output_type": "stream",
     "text": [
      "Train - f1-score: 1.0\n",
      "Test - f1-score: 0.6606364179257309\n"
     ]
    },
    {
     "data": {
      "image/png": "[encoded data removed]",
      "text/plain": [
       "<Figure size 432x360 with 2 Axes>"
      ]
     },
     "metadata": {
      "needs_background": "light"
     },
     "output_type": "display_data"
    }
   ],
   "source": [
    "# Call the modeling function for Decission Tree with countvectorizer and print f1 score\n",
    "def dt_sentiment():\n",
    "    dt = DecisionTreeClassifier()\n",
    "    dt.fit(Xtrain, y_train)\n",
    "    y_pred_dt_train = dt.predict(Xtrain)\n",
    "    y_pred_dt_test = dt.predict(Xtest)\n",
    "    score_dt_train = f1_score(y_train, y_pred_dt_train, average=\"weighted\")\n",
    "    score_dt_test = f1_score(y_test, y_pred_dt_test, average=\"weighted\")\n",
    "\n",
    "    print(\"Train - f1-score: {}\".format(score_dt_train))\n",
    "    print(\"Test - f1-score: {}\".format(score_dt_test))\n",
    "\n",
    "    disp_confusion_matrix(y_pred_dt_test, \"Decission Tree\")\n",
    "\n",
    "dt_sentiment()"
   ]
  },
  {
   "cell_type": "markdown",
   "metadata": {},
   "source": [
    "### 5 - Model Improvement"
   ]
  },
  {
   "cell_type": "code",
   "execution_count": 23,
   "metadata": {},
   "outputs": [],
   "source": [
    "from sklearn.pipeline import Pipeline\n",
    "from sklearn.model_selection import GridSearchCV"
   ]
  },
  {
   "cell_type": "code",
   "execution_count": 24,
   "metadata": {},
   "outputs": [],
   "source": [
    "# Pipeline\n",
    "pipe = Pipeline([('classifier', LogisticRegression())])\n",
    "\n",
    "# Parameter for each classifier\n",
    "params_grid = [{\n",
    "                'classifier':[LogisticRegression()],\n",
    "                'classifier__C': [0.001, 0.01, 0.1, 1, 10, 100]\n",
    "                },\n",
    "                {\n",
    "                'classifier':[SVC()],\n",
    "                'classifier__kernel':['linear','rbf'],\n",
    "                'classifier__C':[0.001, 0.01, 0.1, 1, 10, 100]\n",
    "                },\n",
    "                {\n",
    "                'classifier':[DecisionTreeClassifier()],\n",
    "                'classifier__max_depth':[2, 4, 6],\n",
    "                'classifier__min_samples_split':[2, 3]\n",
    "                },\n",
    "                {\n",
    "                'classifier':[MultinomialNB()],\n",
    "                'classifier__alpha':[0.6, 0.8, 1.0]\n",
    "                }]\n",
    "\n",
    "# GridSearchCV\n",
    "grid = GridSearchCV(pipe, params_grid, cv=3, n_jobs=2).fit(Xtrain, y_train)"
   ]
  },
  {
   "cell_type": "code",
   "execution_count": 25,
   "metadata": {},
   "outputs": [
    {
     "name": "stdout",
     "output_type": "stream",
     "text": [
      "Best parameters : {'classifier': LogisticRegression(C=10), 'classifier__C': 10}\n",
      "\n",
      "Best cross-validation score : 0.6131463892657921\n",
      "\n",
      "Best estimator : Pipeline(steps=[('classifier', LogisticRegression(C=10))])\n"
     ]
    }
   ],
   "source": [
    "# GridSearchCV output\n",
    "print('Best parameters :', grid.best_params_)\n",
    "print('\\nBest cross-validation score :', grid.best_score_)\n",
    "print('\\nBest estimator :', grid.best_estimator_)"
   ]
  },
  {
   "cell_type": "code",
   "execution_count": 26,
   "metadata": {},
   "outputs": [],
   "source": [
    "# Get the best estimator \n",
    "best_grid = grid.best_estimator_"
   ]
  },
  {
   "cell_type": "code",
   "execution_count": 27,
   "metadata": {},
   "outputs": [
    {
     "name": "stdout",
     "output_type": "stream",
     "text": [
      "------------------------- Train-Set -------------------------\n",
      "              precision    recall  f1-score   support\n",
      "\n",
      "     negatif       1.00      1.00      1.00        26\n",
      "      netral       1.00      1.00      1.00        79\n",
      "     positif       1.00      1.00      1.00        94\n",
      "\n",
      "    accuracy                           1.00       199\n",
      "   macro avg       1.00      1.00      1.00       199\n",
      "weighted avg       1.00      1.00      1.00       199\n",
      "\n",
      "------------------------- Test-Set -------------------------\n",
      "              precision    recall  f1-score   support\n",
      "\n",
      "     negatif       0.71      0.10      0.17       104\n",
      "      netral       0.65      0.83      0.73       320\n",
      "     positif       0.76      0.76      0.76       376\n",
      "\n",
      "    accuracy                           0.70       800\n",
      "   macro avg       0.71      0.56      0.55       800\n",
      "weighted avg       0.71      0.70      0.67       800\n",
      "\n"
     ]
    }
   ],
   "source": [
    "# Predict the best model to X_train and X_test\n",
    "y_pred_train = best_grid.predict(Xtrain)\n",
    "y_pred_test = best_grid.predict(Xtest)\n",
    "\n",
    "# Classification Report\n",
    "print('-'*25, 'Train-Set', '-'*25)\n",
    "print(classification_report(y_train, y_pred_train))\n",
    "print('-'*25, 'Test-Set', '-'*25)\n",
    "print(classification_report(y_test, y_pred_test))"
   ]
  },
  {
   "cell_type": "code",
   "execution_count": 28,
   "metadata": {},
   "outputs": [
    {
     "name": "stdout",
     "output_type": "stream",
     "text": [
      "Train - f1-score: 1.0\n",
      "Test - f1-score: 0.6674448572091943\n"
     ]
    }
   ],
   "source": [
    "score_best_grid_train = f1_score(y_train, y_pred_train, average=\"weighted\")\n",
    "score_best_grid_test = f1_score(y_test, y_pred_test, average=\"weighted\")\n",
    "\n",
    "print(\"Train - f1-score: {}\".format(score_best_grid_train))\n",
    "print(\"Test - f1-score: {}\".format(score_best_grid_test))"
   ]
  },
  {
   "cell_type": "code",
   "execution_count": 29,
   "metadata": {},
   "outputs": [
    {
     "data": {
      "image/png": "[encoded data removed]",
      "text/plain": [
       "<Figure size 432x360 with 2 Axes>"
      ]
     },
     "metadata": {
      "needs_background": "light"
     },
     "output_type": "display_data"
    }
   ],
   "source": [
    "disp_confusion_matrix(y_pred_test, \"LogReg GridSearchCV\")"
   ]
  },
  {
   "cell_type": "markdown",
   "metadata": {},
   "source": [
    "The best parameter still over fit the test set. So I continue with embedding."
   ]
  },
  {
   "cell_type": "markdown",
   "metadata": {},
   "source": [
    "### 6 - Embedding (TF-IDF)"
   ]
  },
  {
   "cell_type": "code",
   "execution_count": 30,
   "metadata": {},
   "outputs": [],
   "source": [
    "# Create the word vector with TF-IDF Vectorizer\n",
    "tfidf_vect = TfidfVectorizer(ngram_range=(1, 1))\n",
    "tfidf_vect_train = tfidf_vect.fit_transform(X_train)\n",
    "tfidf_vect_train = tfidf_vect_train.toarray()\n",
    "tfidf_vect_test = tfidf_vect.transform(X_test)\n",
    "tfidf_vect_test = tfidf_vect_test.toarray()"
   ]
  },
  {
   "cell_type": "code",
   "execution_count": 31,
   "metadata": {},
   "outputs": [
    {
     "name": "stdout",
     "output_type": "stream",
     "text": [
      "Train - f1-score: 0.740611111366395\n",
      "Test - f1-score: 0.5215031576053007\n"
     ]
    },
    {
     "data": {
      "image/png": "[encoded data removed]",
      "text/plain": [
       "<Figure size 432x360 with 2 Axes>"
      ]
     },
     "metadata": {
      "needs_background": "light"
     },
     "output_type": "display_data"
    }
   ],
   "source": [
    "def best_grid_sentiment():\n",
    "    # tfidf_nb = MultinomialNB()\n",
    "    # tfidf_nb.fit(tfidf_vect_train, y_train)\n",
    "    y_pred_best_grid_train = best_grid.predict(tfidf_vect_train)\n",
    "    y_pred_best_grid_test = best_grid.predict(tfidf_vect_test)\n",
    "    score_best_grid_train = f1_score(y_train, y_pred_best_grid_train, average=\"weighted\")\n",
    "    score_best_grid_test = f1_score(y_test, y_pred_best_grid_test, average=\"weighted\")\n",
    "\n",
    "    print(\"Train - f1-score: {}\".format(score_best_grid_train))\n",
    "    print(\"Test - f1-score: {}\".format(score_best_grid_test))\n",
    "\n",
    "    disp_confusion_matrix(y_pred_best_grid_test, \"Best Classifier - TFIDF\")\n",
    "\n",
    "best_grid_sentiment()"
   ]
  },
  {
   "cell_type": "markdown",
   "metadata": {},
   "source": [
    "After Embedding proses, now the model is not over fit and can predict the test set better.\n",
    "\n",
    "But, as shown from the confussion matrix, this model cannot predict well in negative values.\n",
    "\n",
    "So, for predicting a better number in negative values, the pre train model will be used."
   ]
  },
  {
   "cell_type": "markdown",
   "metadata": {},
   "source": [
    "### 7 - Inferencing Model"
   ]
  },
  {
   "cell_type": "code",
   "execution_count": 32,
   "metadata": {},
   "outputs": [],
   "source": [
    "from vaderSentiment.vaderSentiment import SentimentIntensityAnalyzer\n",
    "analyser = SentimentIntensityAnalyzer()\n",
    "\n",
    "def vader_sentiment_analyzer(sentence):\n",
    "    score = analyser.polarity_scores(sentence)\n",
    "    print(\"Tweet:\", sentence)\n",
    "    print(\"Score:\", score)\n",
    "\n",
    "    print(\"Sentence Overall Rated As\", end = \" \")\n",
    "    \n",
    "    if score['compound'] >= 0.05 :\n",
    "        print(\"--Positive--\")\n",
    "    elif score['compound'] <= - 0.05 :\n",
    "        print(\"--Negative--\")\n",
    "    else :\n",
    "        print(\"--Neutral--\")"
   ]
  },
  {
   "cell_type": "code",
   "execution_count": 33,
   "metadata": {},
   "outputs": [],
   "source": [
    "new_data = [\"This movie is very cool\",\n",
    "            \"Typical asian parents\",\n",
    "            \"Really love the theme songs, 4-town\",\n",
    "            \"This movie just stereotyping the asian family culture\",\n",
    "            \"Ridiculous how they describe it\",\n",
    "            \"Watching turning red and gosh i am having so many feels\",\n",
    "            \"The most unrealistic part of Turning Red is that not one of those canonically weird ass little 13 year olds hissed at someone like a cat where’s the honest representation smh\",\n",
    "            \"what i was saying is that you don’t need to change the personalities or appearances of the characters in order for it to suit your criteria like leon still can be dominant despite being shorter than raihan but yeah\",\n",
    "            \"Why did I sit and cry the whole time through turning red. I love it\",\n",
    "            \"Turning Red is awful and I’m being forced to watch it again.\"]"
   ]
  },
  {
   "cell_type": "code",
   "execution_count": 34,
   "metadata": {},
   "outputs": [
    {
     "name": "stdout",
     "output_type": "stream",
     "text": [
      "Tweet: This movie is very cool\n",
      "Score: {'neg': 0.0, 'neu': 0.607, 'pos': 0.393, 'compound': 0.3804}\n",
      "Sentence Overall Rated As --Positive--\n",
      "\n",
      "Tweet: Typical asian parents\n",
      "Score: {'neg': 0.0, 'neu': 1.0, 'pos': 0.0, 'compound': 0.0}\n",
      "Sentence Overall Rated As --Neutral--\n",
      "\n",
      "Tweet: Really love the theme songs, 4-town\n",
      "Score: {'neg': 0.0, 'neu': 0.527, 'pos': 0.473, 'compound': 0.6697}\n",
      "Sentence Overall Rated As --Positive--\n",
      "\n",
      "Tweet: This movie just stereotyping the asian family culture\n",
      "Score: {'neg': 0.0, 'neu': 1.0, 'pos': 0.0, 'compound': 0.0}\n",
      "Sentence Overall Rated As --Neutral--\n",
      "\n",
      "Tweet: Ridiculous how they describe it\n",
      "Score: {'neg': 0.385, 'neu': 0.615, 'pos': 0.0, 'compound': -0.3612}\n",
      "Sentence Overall Rated As --Negative--\n",
      "\n",
      "Tweet: Watching turning red and gosh i am having so many feels\n",
      "Score: {'neg': 0.0, 'neu': 1.0, 'pos': 0.0, 'compound': 0.0}\n",
      "Sentence Overall Rated As --Neutral--\n",
      "\n",
      "Tweet: The most unrealistic part of Turning Red is that not one of those canonically weird ass little 13 year olds hissed at someone like a cat where’s the honest representation smh\n",
      "Score: {'neg': 0.191, 'neu': 0.662, 'pos': 0.148, 'compound': -0.1779}\n",
      "Sentence Overall Rated As --Negative--\n",
      "\n",
      "Tweet: what i was saying is that you don’t need to change the personalities or appearances of the characters in order for it to suit your criteria like leon still can be dominant despite being shorter than raihan but yeah\n",
      "Score: {'neg': 0.0, 'neu': 0.89, 'pos': 0.11, 'compound': 0.5499}\n",
      "Sentence Overall Rated As --Positive--\n",
      "\n",
      "Tweet: Why did I sit and cry the whole time through turning red. I love it\n",
      "Score: {'neg': 0.153, 'neu': 0.64, 'pos': 0.207, 'compound': 0.2732}\n",
      "Sentence Overall Rated As --Positive--\n",
      "\n",
      "Tweet: Turning Red is awful and I’m being forced to watch it again.\n",
      "Score: {'neg': 0.375, 'neu': 0.625, 'pos': 0.0, 'compound': -0.7184}\n",
      "Sentence Overall Rated As --Negative--\n",
      "\n"
     ]
    }
   ],
   "source": [
    "for tweet in new_data:\n",
    "    vader_sentiment_analyzer(tweet)\n",
    "    print(\"\")"
   ]
  },
  {
   "cell_type": "markdown",
   "metadata": {},
   "source": [
    "### 8 - Conclussion"
   ]
  },
  {
   "cell_type": "markdown",
   "metadata": {},
   "source": [
    "1. **Based on dataset**:\n",
    "    1. I used my own dataset which scrapping tweets from Twitter API about a new Disney Pixar movie Turning Red.\n",
    "    2. The process for collecting the dataset is not include in this notebook.\n",
    "    3. Most of the tweets known as a positive sentiment to the movie:\n",
    "        - positive: 47 %\n",
    "        - neutral: 40 %\n",
    "        - negative: 13 %\n",
    "2. **Based on model side**:\n",
    "    1. All base model is over-fitting the the test set and quite random in predicting the sentiment.\n",
    "    2. Hyperparameter tuning from those base models with the GridSearchCV generate a result\n",
    "        - Best parameters : **'classifier': LogisticRegression(C=10), 'classifier__C': 10'**\n",
    "        - Best cross-validation score : **0.61**.\n",
    "    3. Overall the model is over-fitting the test set and cannot predict well the negative sentiment\n",
    "    4. After did the embedding process to the model, the model still over-fitting the test set and have a lower f1-score. This model still cannot predict well the negative sentiment."
   ]
  },
  {
   "cell_type": "markdown",
   "metadata": {},
   "source": []
  }
 ],
 "metadata": {
  "interpreter": {
   "hash": "75384fd0ca3c2952361a90566c13d130cab84e43a6c89416ac57c7dceece1b2d"
  },
  "kernelspec": {
   "display_name": "Python 3.9.7 ('base')",
   "language": "python",
   "name": "python3"
  },
  "language_info": {
   "codemirror_mode": {
    "name": "ipython",
    "version": 3
   },
   "file_extension": ".py",
   "mimetype": "text/x-python",
   "name": "python",
   "nbconvert_exporter": "python",
   "pygments_lexer": "ipython3",
   "version": "3.9.7"
  },
  "orig_nbformat": 4
 },
 "nbformat": 4,
 "nbformat_minor": 2
}
